{
 "cells": [
  {
   "cell_type": "markdown",
   "metadata": {},
   "source": [
    "## PART 4: MODEL BUILDING AND COMPARISON WITH OTHER MODELS\n",
    "This notebook has been divided into two parts. The first part deals with regression model building where the main focus is laid on Neural Network, along with Random forest Regressor, Support Vector machine and Linear Regression. The second part is a graph based comparison between all the models built in part 1"
   ]
  },
  {
   "cell_type": "markdown",
   "metadata": {},
   "source": [
    "## PART 4.1: MODEL BUILDING "
   ]
  },
  {
   "cell_type": "code",
   "execution_count": 1,
   "metadata": {},
   "outputs": [],
   "source": [
    "import pandas as pd\n",
    "import numpy as np"
   ]
  },
  {
   "cell_type": "code",
   "execution_count": 2,
   "metadata": {},
   "outputs": [
    {
     "data": {
      "text/html": [
       "<div>\n",
       "<style scoped>\n",
       "    .dataframe tbody tr th:only-of-type {\n",
       "        vertical-align: middle;\n",
       "    }\n",
       "\n",
       "    .dataframe tbody tr th {\n",
       "        vertical-align: top;\n",
       "    }\n",
       "\n",
       "    .dataframe thead th {\n",
       "        text-align: right;\n",
       "    }\n",
       "</style>\n",
       "<table border=\"1\" class=\"dataframe\">\n",
       "  <thead>\n",
       "    <tr style=\"text-align: right;\">\n",
       "      <th></th>\n",
       "      <th>Area</th>\n",
       "      <th>Annual</th>\n",
       "      <th>Mean Max. Tempearure</th>\n",
       "      <th>Mean Min. Tempearure</th>\n",
       "      <th>Yield</th>\n",
       "      <th>BAGALKOT</th>\n",
       "      <th>BANGALORE RURAL</th>\n",
       "      <th>BELGAUM</th>\n",
       "      <th>BELLARY</th>\n",
       "      <th>BENGALURU URBAN</th>\n",
       "      <th>...</th>\n",
       "      <th>Soyabean</th>\n",
       "      <th>Sugarcane</th>\n",
       "      <th>Sunflower</th>\n",
       "      <th>Sweet potato</th>\n",
       "      <th>Tapioca</th>\n",
       "      <th>Tobacco</th>\n",
       "      <th>Tomato</th>\n",
       "      <th>Turmeric</th>\n",
       "      <th>Urad</th>\n",
       "      <th>Wheat</th>\n",
       "    </tr>\n",
       "  </thead>\n",
       "  <tbody>\n",
       "    <tr>\n",
       "      <th>0</th>\n",
       "      <td>6154.0</td>\n",
       "      <td>795.01</td>\n",
       "      <td>31.708333</td>\n",
       "      <td>20.706667</td>\n",
       "      <td>422.814430</td>\n",
       "      <td>1</td>\n",
       "      <td>0</td>\n",
       "      <td>0</td>\n",
       "      <td>0</td>\n",
       "      <td>0</td>\n",
       "      <td>...</td>\n",
       "      <td>0</td>\n",
       "      <td>0</td>\n",
       "      <td>0</td>\n",
       "      <td>0</td>\n",
       "      <td>0</td>\n",
       "      <td>0</td>\n",
       "      <td>0</td>\n",
       "      <td>0</td>\n",
       "      <td>0</td>\n",
       "      <td>0</td>\n",
       "    </tr>\n",
       "    <tr>\n",
       "      <th>1</th>\n",
       "      <td>48855.0</td>\n",
       "      <td>795.01</td>\n",
       "      <td>31.708333</td>\n",
       "      <td>20.706667</td>\n",
       "      <td>1072.049944</td>\n",
       "      <td>1</td>\n",
       "      <td>0</td>\n",
       "      <td>0</td>\n",
       "      <td>0</td>\n",
       "      <td>0</td>\n",
       "      <td>...</td>\n",
       "      <td>0</td>\n",
       "      <td>0</td>\n",
       "      <td>0</td>\n",
       "      <td>0</td>\n",
       "      <td>0</td>\n",
       "      <td>0</td>\n",
       "      <td>0</td>\n",
       "      <td>0</td>\n",
       "      <td>0</td>\n",
       "      <td>0</td>\n",
       "    </tr>\n",
       "    <tr>\n",
       "      <th>2</th>\n",
       "      <td>71.0</td>\n",
       "      <td>795.01</td>\n",
       "      <td>31.708333</td>\n",
       "      <td>20.706667</td>\n",
       "      <td>859.154930</td>\n",
       "      <td>1</td>\n",
       "      <td>0</td>\n",
       "      <td>0</td>\n",
       "      <td>0</td>\n",
       "      <td>0</td>\n",
       "      <td>...</td>\n",
       "      <td>0</td>\n",
       "      <td>0</td>\n",
       "      <td>0</td>\n",
       "      <td>0</td>\n",
       "      <td>0</td>\n",
       "      <td>0</td>\n",
       "      <td>0</td>\n",
       "      <td>0</td>\n",
       "      <td>0</td>\n",
       "      <td>0</td>\n",
       "    </tr>\n",
       "    <tr>\n",
       "      <th>3</th>\n",
       "      <td>15225.0</td>\n",
       "      <td>795.01</td>\n",
       "      <td>31.708333</td>\n",
       "      <td>20.706667</td>\n",
       "      <td>1453.464696</td>\n",
       "      <td>1</td>\n",
       "      <td>0</td>\n",
       "      <td>0</td>\n",
       "      <td>0</td>\n",
       "      <td>0</td>\n",
       "      <td>...</td>\n",
       "      <td>0</td>\n",
       "      <td>0</td>\n",
       "      <td>0</td>\n",
       "      <td>0</td>\n",
       "      <td>0</td>\n",
       "      <td>0</td>\n",
       "      <td>0</td>\n",
       "      <td>0</td>\n",
       "      <td>0</td>\n",
       "      <td>0</td>\n",
       "    </tr>\n",
       "    <tr>\n",
       "      <th>4</th>\n",
       "      <td>16368.0</td>\n",
       "      <td>795.01</td>\n",
       "      <td>31.708333</td>\n",
       "      <td>20.706667</td>\n",
       "      <td>472.507331</td>\n",
       "      <td>1</td>\n",
       "      <td>0</td>\n",
       "      <td>0</td>\n",
       "      <td>0</td>\n",
       "      <td>0</td>\n",
       "      <td>...</td>\n",
       "      <td>0</td>\n",
       "      <td>0</td>\n",
       "      <td>0</td>\n",
       "      <td>0</td>\n",
       "      <td>0</td>\n",
       "      <td>0</td>\n",
       "      <td>0</td>\n",
       "      <td>0</td>\n",
       "      <td>0</td>\n",
       "      <td>0</td>\n",
       "    </tr>\n",
       "    <tr>\n",
       "      <th>...</th>\n",
       "      <td>...</td>\n",
       "      <td>...</td>\n",
       "      <td>...</td>\n",
       "      <td>...</td>\n",
       "      <td>...</td>\n",
       "      <td>...</td>\n",
       "      <td>...</td>\n",
       "      <td>...</td>\n",
       "      <td>...</td>\n",
       "      <td>...</td>\n",
       "      <td>...</td>\n",
       "      <td>...</td>\n",
       "      <td>...</td>\n",
       "      <td>...</td>\n",
       "      <td>...</td>\n",
       "      <td>...</td>\n",
       "      <td>...</td>\n",
       "      <td>...</td>\n",
       "      <td>...</td>\n",
       "      <td>...</td>\n",
       "      <td>...</td>\n",
       "    </tr>\n",
       "    <tr>\n",
       "      <th>19586</th>\n",
       "      <td>15205.0</td>\n",
       "      <td>654.36</td>\n",
       "      <td>33.306667</td>\n",
       "      <td>21.860833</td>\n",
       "      <td>2303.781651</td>\n",
       "      <td>0</td>\n",
       "      <td>0</td>\n",
       "      <td>0</td>\n",
       "      <td>0</td>\n",
       "      <td>0</td>\n",
       "      <td>...</td>\n",
       "      <td>0</td>\n",
       "      <td>0</td>\n",
       "      <td>0</td>\n",
       "      <td>0</td>\n",
       "      <td>0</td>\n",
       "      <td>0</td>\n",
       "      <td>0</td>\n",
       "      <td>0</td>\n",
       "      <td>0</td>\n",
       "      <td>0</td>\n",
       "    </tr>\n",
       "    <tr>\n",
       "      <th>19587</th>\n",
       "      <td>14.0</td>\n",
       "      <td>654.36</td>\n",
       "      <td>33.306667</td>\n",
       "      <td>21.860833</td>\n",
       "      <td>357.142857</td>\n",
       "      <td>0</td>\n",
       "      <td>0</td>\n",
       "      <td>0</td>\n",
       "      <td>0</td>\n",
       "      <td>0</td>\n",
       "      <td>...</td>\n",
       "      <td>0</td>\n",
       "      <td>0</td>\n",
       "      <td>1</td>\n",
       "      <td>0</td>\n",
       "      <td>0</td>\n",
       "      <td>0</td>\n",
       "      <td>0</td>\n",
       "      <td>0</td>\n",
       "      <td>0</td>\n",
       "      <td>0</td>\n",
       "    </tr>\n",
       "    <tr>\n",
       "      <th>19588</th>\n",
       "      <td>168.0</td>\n",
       "      <td>654.36</td>\n",
       "      <td>33.306667</td>\n",
       "      <td>21.860833</td>\n",
       "      <td>8922.619048</td>\n",
       "      <td>0</td>\n",
       "      <td>0</td>\n",
       "      <td>0</td>\n",
       "      <td>0</td>\n",
       "      <td>0</td>\n",
       "      <td>...</td>\n",
       "      <td>0</td>\n",
       "      <td>0</td>\n",
       "      <td>0</td>\n",
       "      <td>0</td>\n",
       "      <td>0</td>\n",
       "      <td>0</td>\n",
       "      <td>0</td>\n",
       "      <td>0</td>\n",
       "      <td>0</td>\n",
       "      <td>0</td>\n",
       "    </tr>\n",
       "    <tr>\n",
       "      <th>19589</th>\n",
       "      <td>1.0</td>\n",
       "      <td>654.36</td>\n",
       "      <td>33.306667</td>\n",
       "      <td>21.860833</td>\n",
       "      <td>4434.191784</td>\n",
       "      <td>0</td>\n",
       "      <td>0</td>\n",
       "      <td>0</td>\n",
       "      <td>0</td>\n",
       "      <td>0</td>\n",
       "      <td>...</td>\n",
       "      <td>0</td>\n",
       "      <td>0</td>\n",
       "      <td>0</td>\n",
       "      <td>0</td>\n",
       "      <td>0</td>\n",
       "      <td>0</td>\n",
       "      <td>0</td>\n",
       "      <td>0</td>\n",
       "      <td>0</td>\n",
       "      <td>0</td>\n",
       "    </tr>\n",
       "    <tr>\n",
       "      <th>19590</th>\n",
       "      <td>862.0</td>\n",
       "      <td>654.36</td>\n",
       "      <td>33.306667</td>\n",
       "      <td>21.860833</td>\n",
       "      <td>91199.535963</td>\n",
       "      <td>0</td>\n",
       "      <td>0</td>\n",
       "      <td>0</td>\n",
       "      <td>0</td>\n",
       "      <td>0</td>\n",
       "      <td>...</td>\n",
       "      <td>0</td>\n",
       "      <td>1</td>\n",
       "      <td>0</td>\n",
       "      <td>0</td>\n",
       "      <td>0</td>\n",
       "      <td>0</td>\n",
       "      <td>0</td>\n",
       "      <td>0</td>\n",
       "      <td>0</td>\n",
       "      <td>0</td>\n",
       "    </tr>\n",
       "  </tbody>\n",
       "</table>\n",
       "<p>19591 rows × 96 columns</p>\n",
       "</div>"
      ],
      "text/plain": [
       "          Area  Annual  Mean Max. Tempearure  Mean Min. Tempearure  \\\n",
       "0       6154.0  795.01             31.708333             20.706667   \n",
       "1      48855.0  795.01             31.708333             20.706667   \n",
       "2         71.0  795.01             31.708333             20.706667   \n",
       "3      15225.0  795.01             31.708333             20.706667   \n",
       "4      16368.0  795.01             31.708333             20.706667   \n",
       "...        ...     ...                   ...                   ...   \n",
       "19586  15205.0  654.36             33.306667             21.860833   \n",
       "19587     14.0  654.36             33.306667             21.860833   \n",
       "19588    168.0  654.36             33.306667             21.860833   \n",
       "19589      1.0  654.36             33.306667             21.860833   \n",
       "19590    862.0  654.36             33.306667             21.860833   \n",
       "\n",
       "              Yield  BAGALKOT  BANGALORE RURAL  BELGAUM  BELLARY  \\\n",
       "0        422.814430         1                0        0        0   \n",
       "1       1072.049944         1                0        0        0   \n",
       "2        859.154930         1                0        0        0   \n",
       "3       1453.464696         1                0        0        0   \n",
       "4        472.507331         1                0        0        0   \n",
       "...             ...       ...              ...      ...      ...   \n",
       "19586   2303.781651         0                0        0        0   \n",
       "19587    357.142857         0                0        0        0   \n",
       "19588   8922.619048         0                0        0        0   \n",
       "19589   4434.191784         0                0        0        0   \n",
       "19590  91199.535963         0                0        0        0   \n",
       "\n",
       "       BENGALURU URBAN  ...  Soyabean  Sugarcane  Sunflower  Sweet potato  \\\n",
       "0                    0  ...         0          0          0             0   \n",
       "1                    0  ...         0          0          0             0   \n",
       "2                    0  ...         0          0          0             0   \n",
       "3                    0  ...         0          0          0             0   \n",
       "4                    0  ...         0          0          0             0   \n",
       "...                ...  ...       ...        ...        ...           ...   \n",
       "19586                0  ...         0          0          0             0   \n",
       "19587                0  ...         0          0          1             0   \n",
       "19588                0  ...         0          0          0             0   \n",
       "19589                0  ...         0          0          0             0   \n",
       "19590                0  ...         0          1          0             0   \n",
       "\n",
       "       Tapioca  Tobacco  Tomato  Turmeric  Urad  Wheat  \n",
       "0            0        0       0         0     0      0  \n",
       "1            0        0       0         0     0      0  \n",
       "2            0        0       0         0     0      0  \n",
       "3            0        0       0         0     0      0  \n",
       "4            0        0       0         0     0      0  \n",
       "...        ...      ...     ...       ...   ...    ...  \n",
       "19586        0        0       0         0     0      0  \n",
       "19587        0        0       0         0     0      0  \n",
       "19588        0        0       0         0     0      0  \n",
       "19589        0        0       0         0     0      0  \n",
       "19590        0        0       0         0     0      0  \n",
       "\n",
       "[19591 rows x 96 columns]"
      ]
     },
     "execution_count": 2,
     "metadata": {},
     "output_type": "execute_result"
    }
   ],
   "source": [
    "df= pd.read_csv(\"Datasets/Pre-Processed Data.csv\")\n",
    "df"
   ]
  },
  {
   "cell_type": "markdown",
   "metadata": {},
   "source": [
    "### Train and Test Split"
   ]
  },
  {
   "cell_type": "code",
   "execution_count": 3,
   "metadata": {},
   "outputs": [],
   "source": [
    "from sklearn.model_selection import train_test_split\n",
    "b = df['Yield']\n",
    "a = df.drop('Yield', axis = 1)\n",
    "\n",
    "x_train, x_test, y_train, y_test = train_test_split(a, b, test_size = 0.3, random_state = 42)"
   ]
  },
  {
   "cell_type": "code",
   "execution_count": 4,
   "metadata": {},
   "outputs": [],
   "source": [
    "from sklearn.preprocessing import StandardScaler\n",
    "sc = StandardScaler()\n",
    "a_train = sc.fit_transform(x_train)\n",
    "a_test = sc.transform(x_test)"
   ]
  },
  {
   "cell_type": "markdown",
   "metadata": {},
   "source": [
    "### MODEL 1: Multivariate Linear Regression"
   ]
  },
  {
   "cell_type": "code",
   "execution_count": 5,
   "metadata": {},
   "outputs": [
    {
     "name": "stdout",
     "output_type": "stream",
     "text": [
      "MAE:  1402.3444719634972\n",
      "R-Squared:  0.9001155877954776\n"
     ]
    }
   ],
   "source": [
    "from sklearn.linear_model import LinearRegression\n",
    "from sklearn import metrics\n",
    "\n",
    "clf_linear = LinearRegression()\n",
    "clf_linear.fit(a_train, y_train)\n",
    "ypredlinear = clf_linear.predict(a_test)\n",
    "mae_linear= metrics.mean_absolute_error(ypredlinear, y_test)\n",
    "r2_linear= metrics.r2_score(ypredlinear, y_test)\n",
    "print(\"MAE: \", mae_linear)\n",
    "print(\"R-Squared: \", r2_linear)"
   ]
  },
  {
   "cell_type": "markdown",
   "metadata": {},
   "source": [
    "### MODEL 2: Random Forest Regressor"
   ]
  },
  {
   "cell_type": "code",
   "execution_count": 6,
   "metadata": {},
   "outputs": [
    {
     "name": "stdout",
     "output_type": "stream",
     "text": [
      "MSE = 24939022.556536306\n",
      "MAE = 2745.9861864747504\n",
      "R2 Score = 0.809084329358253\n"
     ]
    }
   ],
   "source": [
    "from sklearn.ensemble import RandomForestRegressor\n",
    "from sklearn import metrics\n",
    "\n",
    "regr = RandomForestRegressor(max_depth=2, random_state=0, n_estimators=100)\n",
    "regr.fit(a_train, y_train)\n",
    "predictions = regr.predict(a_test)\n",
    "\n",
    "from sklearn.metrics import mean_squared_error as mse\n",
    "from sklearn.metrics import mean_absolute_error as mae\n",
    "from sklearn.metrics import r2_score\n",
    "\n",
    "mae_rfr= mae(predictions, y_test)\n",
    "r2_rfr= r2_score(predictions, y_test)\n",
    "\n",
    "print('MSE =', mse(predictions, y_test))\n",
    "print('MAE =', mae(predictions, y_test))\n",
    "print('R2 Score =', r2_score(predictions, y_test))"
   ]
  },
  {
   "cell_type": "markdown",
   "metadata": {},
   "source": [
    "### MODEL 3: Polynomial Support Vector Regressor"
   ]
  },
  {
   "cell_type": "code",
   "execution_count": 7,
   "metadata": {},
   "outputs": [
    {
     "name": "stdout",
     "output_type": "stream",
     "text": [
      "MAE:  3741.9947421488605\n",
      "R-Squared:   -0.06086265037244121\n"
     ]
    }
   ],
   "source": [
    "from sklearn.svm import SVR\n",
    "from sklearn import metrics\n",
    "\n",
    "regressorpoly=SVR(kernel='poly',epsilon=1.0)\n",
    "regressorpoly.fit(a_train, y_train)\n",
    "pred=regressorpoly.predict(a_test)\n",
    "\n",
    "mae_svm= mae(pred, y_test)\n",
    "r2_svm = r2_score(y_test, pred)\n",
    "\n",
    "print(\"MAE: \", mae(pred, y_test))\n",
    "print(\"R-Squared:  \", r2_score(y_test, pred))"
   ]
  },
  {
   "cell_type": "markdown",
   "metadata": {},
   "source": [
    "### MODEL 3: Artificial Neural Network (Highlight)"
   ]
  },
  {
   "cell_type": "code",
   "execution_count": 8,
   "metadata": {},
   "outputs": [],
   "source": [
    "#First thing first- defining the function for evaluate R2 Score\n",
    "import keras as K\n",
    "\n",
    "def RSquared(y_true, y_pred):\n",
    "    from keras import backend as K\n",
    "    SS_res =  K.sum(K.square( y_true-y_pred ))\n",
    "    SS_tot = K.sum(K.square( y_true - K.mean(y_true) ) )\n",
    "    return ( 1 - SS_res/(SS_tot + K.epsilon()) )"
   ]
  },
  {
   "cell_type": "code",
   "execution_count": 9,
   "metadata": {},
   "outputs": [],
   "source": [
    "from keras.callbacks import ModelCheckpoint\n",
    "from keras.models import Sequential\n",
    "from keras.layers import Dense, Activation, Flatten\n",
    "#from sklearn.model_selection import train_test_split\n",
    "#from sklearn.ensemble import RandomForestRegressor\n",
    "from sklearn.metrics import mean_absolute_error \n",
    "from sklearn.metrics import r2_score\n",
    "#from matplotlib import pyplot as plt\n",
    "import seaborn as sb\n",
    "import matplotlib.pyplot as plt\n",
    "#import pandas as pd\n",
    "#import numpy as np\n",
    "import warnings\n",
    "from keras.callbacks import History \n",
    "warnings.filterwarnings('ignore')\n",
    "warnings.filterwarnings('ignore', category=DeprecationWarning)"
   ]
  },
  {
   "cell_type": "code",
   "execution_count": 10,
   "metadata": {},
   "outputs": [
    {
     "name": "stdout",
     "output_type": "stream",
     "text": [
      "Model: \"sequential\"\n",
      "_________________________________________________________________\n",
      "Layer (type)                 Output Shape              Param #   \n",
      "=================================================================\n",
      "dense (Dense)                (None, 128)               12288     \n",
      "_________________________________________________________________\n",
      "dense_1 (Dense)              (None, 256)               33024     \n",
      "_________________________________________________________________\n",
      "dense_2 (Dense)              (None, 256)               65792     \n",
      "_________________________________________________________________\n",
      "dense_3 (Dense)              (None, 256)               65792     \n",
      "_________________________________________________________________\n",
      "dense_4 (Dense)              (None, 1)                 257       \n",
      "=================================================================\n",
      "Total params: 177,153\n",
      "Trainable params: 177,153\n",
      "Non-trainable params: 0\n",
      "_________________________________________________________________\n"
     ]
    }
   ],
   "source": [
    "NN_model = Sequential()\n",
    "\n",
    "# The Input Layer :\n",
    "NN_model.add(Dense(128, kernel_initializer='normal',input_dim = a_train.shape[1], activation='relu'))\n",
    "\n",
    "# The Hidden Layers :\n",
    "NN_model.add(Dense(256, kernel_initializer='normal',activation='relu'))\n",
    "NN_model.add(Dense(256, kernel_initializer='normal',activation='relu'))\n",
    "NN_model.add(Dense(256, kernel_initializer='normal',activation='relu'))\n",
    "\n",
    "# The Output Layer :\n",
    "NN_model.add(Dense(1, kernel_initializer='normal',activation='relu'))\n",
    "\n",
    "# Compile the network :\n",
    "NN_model.compile(loss='mean_absolute_error', optimizer='adam', metrics=['mean_absolute_error', RSquared])\n",
    "NN_model.summary()"
   ]
  },
  {
   "cell_type": "code",
   "execution_count": 11,
   "metadata": {
    "scrolled": false
   },
   "outputs": [
    {
     "name": "stdout",
     "output_type": "stream",
     "text": [
      "Epoch 1/50\n",
      "22/22 [==============================] - 7s 202ms/step - loss: 4358.3609 - mean_absolute_error: 4358.3609 - RSquared: -0.1299 - val_loss: 4457.1733 - val_mean_absolute_error: 4457.1733 - val_RSquared: -0.1146\n",
      "Epoch 2/50\n",
      "22/22 [==============================] - 0s 18ms/step - loss: 4147.9478 - mean_absolute_error: 4147.9478 - RSquared: -0.1014 - val_loss: 3883.4241 - val_mean_absolute_error: 3883.4241 - val_RSquared: -0.0205\n",
      "Epoch 3/50\n",
      "22/22 [==============================] - 0s 17ms/step - loss: 3726.4446 - mean_absolute_error: 3726.4446 - RSquared: -0.0084 - val_loss: 3355.6421 - val_mean_absolute_error: 3355.6421 - val_RSquared: 0.0546\n",
      "Epoch 4/50\n",
      "22/22 [==============================] - 0s 19ms/step - loss: 3231.5130 - mean_absolute_error: 3231.5130 - RSquared: 0.0789 - val_loss: 2880.3787 - val_mean_absolute_error: 2880.3787 - val_RSquared: 0.1688\n",
      "Epoch 5/50\n",
      "22/22 [==============================] - 0s 17ms/step - loss: 2636.8016 - mean_absolute_error: 2636.8016 - RSquared: 0.2040 - val_loss: 2513.8909 - val_mean_absolute_error: 2513.8909 - val_RSquared: 0.2989\n",
      "Epoch 6/50\n",
      "22/22 [==============================] - 0s 15ms/step - loss: 2425.6811 - mean_absolute_error: 2425.6811 - RSquared: 0.3376 - val_loss: 2259.3560 - val_mean_absolute_error: 2259.3562 - val_RSquared: 0.4587\n",
      "Epoch 7/50\n",
      "22/22 [==============================] - 0s 18ms/step - loss: 2079.7665 - mean_absolute_error: 2079.7665 - RSquared: 0.5125 - val_loss: 1920.4834 - val_mean_absolute_error: 1920.4836 - val_RSquared: 0.6906\n",
      "Epoch 8/50\n",
      "22/22 [==============================] - 0s 16ms/step - loss: 1732.9374 - mean_absolute_error: 1732.9374 - RSquared: 0.7511 - val_loss: 1187.1986 - val_mean_absolute_error: 1187.1986 - val_RSquared: 0.9257\n",
      "Epoch 9/50\n",
      "22/22 [==============================] - 0s 16ms/step - loss: 1145.9180 - mean_absolute_error: 1145.9180 - RSquared: 0.9172 - val_loss: 1111.4106 - val_mean_absolute_error: 1111.4106 - val_RSquared: 0.9318\n",
      "Epoch 10/50\n",
      "22/22 [==============================] - 0s 16ms/step - loss: 1126.0828 - mean_absolute_error: 1126.0828 - RSquared: 0.9181 - val_loss: 1101.7491 - val_mean_absolute_error: 1101.7491 - val_RSquared: 0.9317\n",
      "Epoch 11/50\n",
      "22/22 [==============================] - 0s 21ms/step - loss: 1137.6583 - mean_absolute_error: 1137.6583 - RSquared: 0.9187 - val_loss: 1123.2172 - val_mean_absolute_error: 1123.2172 - val_RSquared: 0.9301\n",
      "Epoch 12/50\n",
      "22/22 [==============================] - 0s 19ms/step - loss: 1175.1814 - mean_absolute_error: 1175.1814 - RSquared: 0.9070 - val_loss: 1073.7188 - val_mean_absolute_error: 1073.7188 - val_RSquared: 0.9331\n",
      "Epoch 13/50\n",
      "22/22 [==============================] - 0s 15ms/step - loss: 1086.6837 - mean_absolute_error: 1086.6837 - RSquared: 0.9304 - val_loss: 1056.7209 - val_mean_absolute_error: 1056.7209 - val_RSquared: 0.9354\n",
      "Epoch 14/50\n",
      "22/22 [==============================] - 0s 14ms/step - loss: 1078.5334 - mean_absolute_error: 1078.5334 - RSquared: 0.9278 - val_loss: 1047.0073 - val_mean_absolute_error: 1047.0073 - val_RSquared: 0.9353\n",
      "Epoch 15/50\n",
      "22/22 [==============================] - 0s 15ms/step - loss: 1015.3274 - mean_absolute_error: 1015.3274 - RSquared: 0.9301 - val_loss: 1044.9663 - val_mean_absolute_error: 1044.9663 - val_RSquared: 0.9358\n",
      "Epoch 16/50\n",
      "22/22 [==============================] - 0s 15ms/step - loss: 1087.9882 - mean_absolute_error: 1087.9882 - RSquared: 0.9164 - val_loss: 1033.3066 - val_mean_absolute_error: 1033.3066 - val_RSquared: 0.9370\n",
      "Epoch 17/50\n",
      "22/22 [==============================] - 0s 15ms/step - loss: 1023.6262 - mean_absolute_error: 1023.6262 - RSquared: 0.9297 - val_loss: 1034.3481 - val_mean_absolute_error: 1034.3481 - val_RSquared: 0.9368\n",
      "Epoch 18/50\n",
      "22/22 [==============================] - 0s 14ms/step - loss: 1096.7713 - mean_absolute_error: 1096.7713 - RSquared: 0.9213 - val_loss: 1028.7461 - val_mean_absolute_error: 1028.7461 - val_RSquared: 0.9377\n",
      "Epoch 19/50\n",
      "22/22 [==============================] - 0s 14ms/step - loss: 1038.9322 - mean_absolute_error: 1038.9322 - RSquared: 0.9265 - val_loss: 1018.9797 - val_mean_absolute_error: 1018.9797 - val_RSquared: 0.9381\n",
      "Epoch 20/50\n",
      "22/22 [==============================] - 0s 15ms/step - loss: 1065.3036 - mean_absolute_error: 1065.3036 - RSquared: 0.9247 - val_loss: 1021.4808 - val_mean_absolute_error: 1021.4808 - val_RSquared: 0.9388\n",
      "Epoch 21/50\n",
      "22/22 [==============================] - 0s 15ms/step - loss: 953.5631 - mean_absolute_error: 953.5631 - RSquared: 0.9342 - val_loss: 1019.6689 - val_mean_absolute_error: 1019.6689 - val_RSquared: 0.9389\n",
      "Epoch 22/50\n",
      "22/22 [==============================] - 0s 14ms/step - loss: 1049.3009 - mean_absolute_error: 1049.3009 - RSquared: 0.9177 - val_loss: 1016.7663 - val_mean_absolute_error: 1016.7663 - val_RSquared: 0.9390\n",
      "Epoch 23/50\n",
      "22/22 [==============================] - 0s 14ms/step - loss: 996.2024 - mean_absolute_error: 996.2024 - RSquared: 0.9389 - val_loss: 1012.4376 - val_mean_absolute_error: 1012.4376 - val_RSquared: 0.9400\n",
      "Epoch 24/50\n",
      "22/22 [==============================] - 0s 14ms/step - loss: 1016.1170 - mean_absolute_error: 1016.1170 - RSquared: 0.9255 - val_loss: 1021.0357 - val_mean_absolute_error: 1021.0357 - val_RSquared: 0.9379\n",
      "Epoch 25/50\n",
      "22/22 [==============================] - 0s 15ms/step - loss: 985.8856 - mean_absolute_error: 985.8856 - RSquared: 0.9343 - val_loss: 995.7942 - val_mean_absolute_error: 995.7942 - val_RSquared: 0.9408\n",
      "Epoch 26/50\n",
      "22/22 [==============================] - 0s 14ms/step - loss: 1009.1705 - mean_absolute_error: 1009.1705 - RSquared: 0.9307 - val_loss: 1017.2299 - val_mean_absolute_error: 1017.2299 - val_RSquared: 0.9408\n",
      "Epoch 27/50\n",
      "22/22 [==============================] - 0s 13ms/step - loss: 941.8727 - mean_absolute_error: 941.8727 - RSquared: 0.9452 - val_loss: 1012.5096 - val_mean_absolute_error: 1012.5096 - val_RSquared: 0.9402\n",
      "Epoch 28/50\n",
      "22/22 [==============================] - 0s 15ms/step - loss: 999.9685 - mean_absolute_error: 999.9685 - RSquared: 0.9279 - val_loss: 999.5061 - val_mean_absolute_error: 999.5061 - val_RSquared: 0.9408\n",
      "Epoch 29/50\n",
      "22/22 [==============================] - 0s 15ms/step - loss: 995.9938 - mean_absolute_error: 995.9938 - RSquared: 0.9351 - val_loss: 999.0780 - val_mean_absolute_error: 999.0780 - val_RSquared: 0.9415\n",
      "Epoch 30/50\n",
      "22/22 [==============================] - 0s 16ms/step - loss: 990.6110 - mean_absolute_error: 990.6110 - RSquared: 0.9303 - val_loss: 1008.9876 - val_mean_absolute_error: 1008.9876 - val_RSquared: 0.9392\n",
      "Epoch 31/50\n",
      "22/22 [==============================] - 0s 15ms/step - loss: 991.2877 - mean_absolute_error: 991.2877 - RSquared: 0.9344 - val_loss: 992.3877 - val_mean_absolute_error: 992.3877 - val_RSquared: 0.9423\n",
      "Epoch 32/50\n",
      "22/22 [==============================] - 0s 14ms/step - loss: 988.9020 - mean_absolute_error: 988.9020 - RSquared: 0.9321 - val_loss: 991.4498 - val_mean_absolute_error: 991.4498 - val_RSquared: 0.9423\n",
      "Epoch 33/50\n",
      "22/22 [==============================] - 0s 20ms/step - loss: 997.0395 - mean_absolute_error: 997.0395 - RSquared: 0.9317 - val_loss: 984.4804 - val_mean_absolute_error: 984.4804 - val_RSquared: 0.9426\n",
      "Epoch 34/50\n",
      "22/22 [==============================] - 0s 15ms/step - loss: 930.4139 - mean_absolute_error: 930.4139 - RSquared: 0.9391 - val_loss: 989.1857 - val_mean_absolute_error: 989.1857 - val_RSquared: 0.9421\n",
      "Epoch 35/50\n",
      "22/22 [==============================] - 0s 15ms/step - loss: 947.3015 - mean_absolute_error: 947.3015 - RSquared: 0.9362 - val_loss: 986.6539 - val_mean_absolute_error: 986.6539 - val_RSquared: 0.9426\n",
      "Epoch 36/50\n",
      "22/22 [==============================] - 0s 14ms/step - loss: 965.5019 - mean_absolute_error: 965.5019 - RSquared: 0.9336 - val_loss: 986.4368 - val_mean_absolute_error: 986.4368 - val_RSquared: 0.9431\n",
      "Epoch 37/50\n",
      "22/22 [==============================] - 0s 14ms/step - loss: 881.1337 - mean_absolute_error: 881.1337 - RSquared: 0.9495 - val_loss: 987.0279 - val_mean_absolute_error: 987.0279 - val_RSquared: 0.9431\n",
      "Epoch 38/50\n",
      "22/22 [==============================] - 0s 16ms/step - loss: 938.3037 - mean_absolute_error: 938.3037 - RSquared: 0.9341 - val_loss: 977.6946 - val_mean_absolute_error: 977.6946 - val_RSquared: 0.9430\n"
     ]
    },
    {
     "name": "stdout",
     "output_type": "stream",
     "text": [
      "Epoch 39/50\n",
      "22/22 [==============================] - 0s 15ms/step - loss: 907.5418 - mean_absolute_error: 907.5418 - RSquared: 0.9483 - val_loss: 1010.1047 - val_mean_absolute_error: 1010.1047 - val_RSquared: 0.9398\n",
      "Epoch 40/50\n",
      "22/22 [==============================] - 0s 15ms/step - loss: 948.2589 - mean_absolute_error: 948.2589 - RSquared: 0.9423 - val_loss: 982.0711 - val_mean_absolute_error: 982.0711 - val_RSquared: 0.9426\n",
      "Epoch 41/50\n",
      "22/22 [==============================] - 0s 20ms/step - loss: 936.7799 - mean_absolute_error: 936.7799 - RSquared: 0.9386 - val_loss: 985.0416 - val_mean_absolute_error: 985.0416 - val_RSquared: 0.9435\n",
      "Epoch 42/50\n",
      "22/22 [==============================] - 0s 15ms/step - loss: 945.4208 - mean_absolute_error: 945.4208 - RSquared: 0.9424 - val_loss: 993.7621 - val_mean_absolute_error: 993.7621 - val_RSquared: 0.9433\n",
      "Epoch 43/50\n",
      "22/22 [==============================] - 0s 16ms/step - loss: 957.6274 - mean_absolute_error: 957.6274 - RSquared: 0.9403 - val_loss: 1001.7744 - val_mean_absolute_error: 1001.7744 - val_RSquared: 0.9420\n",
      "Epoch 44/50\n",
      "22/22 [==============================] - 0s 15ms/step - loss: 919.0953 - mean_absolute_error: 919.0953 - RSquared: 0.9441 - val_loss: 992.2628 - val_mean_absolute_error: 992.2628 - val_RSquared: 0.9432\n",
      "Epoch 45/50\n",
      "22/22 [==============================] - 0s 15ms/step - loss: 910.1779 - mean_absolute_error: 910.1779 - RSquared: 0.9482 - val_loss: 993.6033 - val_mean_absolute_error: 993.6033 - val_RSquared: 0.9437\n",
      "Epoch 46/50\n",
      "22/22 [==============================] - 0s 16ms/step - loss: 943.3621 - mean_absolute_error: 943.3621 - RSquared: 0.9429 - val_loss: 989.5078 - val_mean_absolute_error: 989.5078 - val_RSquared: 0.9430\n",
      "Epoch 47/50\n",
      "22/22 [==============================] - 0s 15ms/step - loss: 917.7672 - mean_absolute_error: 917.7672 - RSquared: 0.9393 - val_loss: 978.3650 - val_mean_absolute_error: 978.3650 - val_RSquared: 0.9440\n",
      "Epoch 48/50\n",
      "22/22 [==============================] - 0s 15ms/step - loss: 925.6306 - mean_absolute_error: 925.6306 - RSquared: 0.9453 - val_loss: 997.3353 - val_mean_absolute_error: 997.3353 - val_RSquared: 0.9427\n",
      "Epoch 49/50\n",
      "22/22 [==============================] - 0s 17ms/step - loss: 942.5364 - mean_absolute_error: 942.5364 - RSquared: 0.9427 - val_loss: 991.6683 - val_mean_absolute_error: 991.6683 - val_RSquared: 0.9433\n",
      "Epoch 50/50\n",
      "22/22 [==============================] - 0s 16ms/step - loss: 885.9464 - mean_absolute_error: 885.9464 - RSquared: 0.9497 - val_loss: 1005.0996 - val_mean_absolute_error: 1005.0996 - val_RSquared: 0.9425\n"
     ]
    }
   ],
   "source": [
    "from keras.callbacks import History \n",
    "history = History()\n",
    "History=NN_model.fit(a_train, y_train, epochs=50, batch_size=500, validation_split = 0.2, callbacks=[history])"
   ]
  },
  {
   "cell_type": "code",
   "execution_count": 12,
   "metadata": {
    "scrolled": false
   },
   "outputs": [
    {
     "data": {
      "image/png": "[encoded data removed]",
      "text/plain": [
       "<Figure size 1080x360 with 3 Axes>"
      ]
     },
     "metadata": {
      "needs_background": "light"
     },
     "output_type": "display_data"
    }
   ],
   "source": [
    "mae_ann= History.history['mean_absolute_error']\n",
    "val_mae_ann= History.history['val_mean_absolute_error']\n",
    "loss_ann=History.history['loss']\n",
    "val_loss=History.history['val_loss']\n",
    "r2_ann= History.history['RSquared']\n",
    "val_r2_ann= History.history['val_RSquared']\n",
    "\n",
    "from matplotlib.pyplot import figure\n",
    "\n",
    "f = plt.figure()\n",
    "f.set_figwidth(15)\n",
    "f.set_figheight(5)  \n",
    "\n",
    "plt.subplot(1, 3, 1)\n",
    "plt.plot(History.history['mean_absolute_error'])\n",
    "plt.plot(History.history['val_mean_absolute_error'])\n",
    "#figure(figsize(8,8))\n",
    "plt.title('mean_absolute_error')\n",
    "plt.ylabel('mean_absolute_error')\n",
    "plt.xlabel('epoch')\n",
    "plt.legend(['train', 'test'], loc='upper left')\n",
    "\n",
    "plt.subplot(1, 3, 2)\n",
    "plt.plot(History.history['loss'])\n",
    "plt.plot(History.history['val_loss'])\n",
    "plt.title('model loss')\n",
    "plt.ylabel('loss')\n",
    "plt.xlabel('epoch')\n",
    "plt.legend(['train', 'test'], loc='upper left')\n",
    "  \n",
    "plt.subplot(1, 3, 3)\n",
    "plt.plot(History.history['RSquared'])\n",
    "plt.plot(History.history['val_RSquared'])\n",
    "plt.title('Accuracy')\n",
    "plt.ylabel('R2-Score')\n",
    "plt.xlabel('epoch')\n",
    "plt.legend(['train', 'test'], loc='upper left')\n",
    "\n",
    "\n",
    "plt.show()\n",
    "  "
   ]
  },
  {
   "cell_type": "code",
   "execution_count": 13,
   "metadata": {},
   "outputs": [],
   "source": [
    "predictions=NN_model.predict(a_test)"
   ]
  },
  {
   "cell_type": "code",
   "execution_count": 14,
   "metadata": {
    "scrolled": true
   },
   "outputs": [
    {
     "data": {
      "text/plain": [
       "<matplotlib.collections.PathCollection at 0x1d8baecd6a0>"
      ]
     },
     "execution_count": 14,
     "metadata": {},
     "output_type": "execute_result"
    },
    {
     "data": {
      "image/png": "[encoded data removed]",
      "text/plain": [
       "<Figure size 432x288 with 1 Axes>"
      ]
     },
     "metadata": {
      "needs_background": "light"
     },
     "output_type": "display_data"
    }
   ],
   "source": [
    "plt.scatter(y_test,predictions)"
   ]
  },
  {
   "cell_type": "code",
   "execution_count": 15,
   "metadata": {},
   "outputs": [
    {
     "data": {
      "text/plain": [
       "<AxesSubplot:ylabel='Density'>"
      ]
     },
     "execution_count": 15,
     "metadata": {},
     "output_type": "execute_result"
    },
    {
     "data": {
      "image/png": "[encoded data removed]",
      "text/plain": [
       "<Figure size 432x288 with 1 Axes>"
      ]
     },
     "metadata": {
      "needs_background": "light"
     },
     "output_type": "display_data"
    }
   ],
   "source": [
    "sb.distplot(predictions)"
   ]
  },
  {
   "cell_type": "markdown",
   "metadata": {},
   "source": [
    "                 "
   ]
  },
  {
   "cell_type": "markdown",
   "metadata": {},
   "source": [
    "        "
   ]
  },
  {
   "cell_type": "markdown",
   "metadata": {},
   "source": [
    "                   "
   ]
  },
  {
   "cell_type": "markdown",
   "metadata": {},
   "source": [
    "                    "
   ]
  },
  {
   "cell_type": "markdown",
   "metadata": {},
   "source": [
    "## PART 2: Model Comparison"
   ]
  },
  {
   "cell_type": "code",
   "execution_count": 16,
   "metadata": {},
   "outputs": [],
   "source": [
    "mean_list= [ mae_rfr, mae_ann[-1], mae_svm, mae_linear]\n",
    "accuracy_list= [r2_rfr, val_r2_ann[-1], r2_svm, r2_linear]\n",
    "name = ['Random Forest', 'ANN','SVM', 'Linear Regression']"
   ]
  },
  {
   "cell_type": "code",
   "execution_count": 17,
   "metadata": {
    "scrolled": false
   },
   "outputs": [
    {
     "data": {
      "text/plain": [
       "Text(0.5, 1.0, 'Accuracy Comparison')"
      ]
     },
     "execution_count": 17,
     "metadata": {},
     "output_type": "execute_result"
    },
    {
     "data": {
      "image/png": "[encoded data removed]",
      "text/plain": [
       "<Figure size 1080x360 with 2 Axes>"
      ]
     },
     "metadata": {
      "needs_background": "light"
     },
     "output_type": "display_data"
    }
   ],
   "source": [
    "f1 = plt.figure()\n",
    "f1.set_figwidth(15)\n",
    "f1.set_figheight(5) \n",
    "\n",
    "plt.subplot(1, 2, 1)\n",
    "plt.bar(name,mean_list)\n",
    "plt.xlabel(\"Data\")\n",
    "plt.ylabel(\"Mean Absolute Error\")\n",
    "plt.title('Mean Absolute Error Comparison')\n",
    "\n",
    "plt.subplot(1, 2, 2)\n",
    "plt.bar(name,accuracy_list)\n",
    "plt.xlabel(\"Data\")\n",
    "plt.ylabel(\"Accuracy\")\n",
    "plt.title('Accuracy Comparison')"
   ]
  }
 ],
 "metadata": {
  "kernelspec": {
   "display_name": "Python 3",
   "language": "python",
   "name": "python3"
  },
  "language_info": {
   "codemirror_mode": {
    "name": "ipython",
    "version": 3
   },
   "file_extension": ".py",
   "mimetype": "text/x-python",
   "name": "python",
   "nbconvert_exporter": "python",
   "pygments_lexer": "ipython3",
   "version": "3.8.5"
  }
 },
 "nbformat": 4,
 "nbformat_minor": 4
}
