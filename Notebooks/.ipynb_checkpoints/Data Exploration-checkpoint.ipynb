{
 "cells": [
  {
   "cell_type": "markdown",
   "metadata": {},
   "source": [
    "## Part 3: DATA EXPLORATION\n",
    "### Visualizing the data after data cleansing using Matplotlib and Seaborn"
   ]
  },
  {
   "cell_type": "code",
   "execution_count": 1,
   "metadata": {},
   "outputs": [],
   "source": [
    "import numpy as np\n",
    "import pandas as pd\n",
    "import matplotlib.pyplot as plt \n",
    "import seaborn as sns\n",
    "import PIL as pil\n",
    "import random\n",
    "random.seed(0)\n",
    "np.random.seed(0)\n",
    "%matplotlib inline"
   ]
  },
  {
   "cell_type": "code",
   "execution_count": 2,
   "metadata": {},
   "outputs": [],
   "source": [
    "karnataka_data=pd.read_csv('Datasets/final_data.csv', encoding='utf-8')"
   ]
  },
  {
   "cell_type": "code",
   "execution_count": 3,
   "metadata": {},
   "outputs": [
    {
     "data": {
      "text/html": [
       "<div>\n",
       "<style scoped>\n",
       "    .dataframe tbody tr th:only-of-type {\n",
       "        vertical-align: middle;\n",
       "    }\n",
       "\n",
       "    .dataframe tbody tr th {\n",
       "        vertical-align: top;\n",
       "    }\n",
       "\n",
       "    .dataframe thead th {\n",
       "        text-align: right;\n",
       "    }\n",
       "</style>\n",
       "<table border=\"1\" class=\"dataframe\">\n",
       "  <thead>\n",
       "    <tr style=\"text-align: right;\">\n",
       "      <th></th>\n",
       "      <th>State Name</th>\n",
       "      <th>Dist Name</th>\n",
       "      <th>Year</th>\n",
       "      <th>Season</th>\n",
       "      <th>Crop</th>\n",
       "      <th>Area</th>\n",
       "      <th>Production</th>\n",
       "      <th>Annual</th>\n",
       "      <th>Mean Max. Tempearure</th>\n",
       "      <th>Mean Min. Tempearure</th>\n",
       "    </tr>\n",
       "  </thead>\n",
       "  <tbody>\n",
       "    <tr>\n",
       "      <th>0</th>\n",
       "      <td>Karnataka</td>\n",
       "      <td>BAGALKOT</td>\n",
       "      <td>1998</td>\n",
       "      <td>Kharif</td>\n",
       "      <td>Arhar/Tur</td>\n",
       "      <td>6154.0</td>\n",
       "      <td>2602.0</td>\n",
       "      <td>795.01</td>\n",
       "      <td>31.708333</td>\n",
       "      <td>20.706667</td>\n",
       "    </tr>\n",
       "    <tr>\n",
       "      <th>1</th>\n",
       "      <td>Karnataka</td>\n",
       "      <td>BAGALKOT</td>\n",
       "      <td>1998</td>\n",
       "      <td>Kharif</td>\n",
       "      <td>Bajra</td>\n",
       "      <td>48855.0</td>\n",
       "      <td>52375.0</td>\n",
       "      <td>795.01</td>\n",
       "      <td>31.708333</td>\n",
       "      <td>20.706667</td>\n",
       "    </tr>\n",
       "    <tr>\n",
       "      <th>2</th>\n",
       "      <td>Karnataka</td>\n",
       "      <td>BAGALKOT</td>\n",
       "      <td>1998</td>\n",
       "      <td>Kharif</td>\n",
       "      <td>Castor seed</td>\n",
       "      <td>71.0</td>\n",
       "      <td>61.0</td>\n",
       "      <td>795.01</td>\n",
       "      <td>31.708333</td>\n",
       "      <td>20.706667</td>\n",
       "    </tr>\n",
       "    <tr>\n",
       "      <th>3</th>\n",
       "      <td>Karnataka</td>\n",
       "      <td>BAGALKOT</td>\n",
       "      <td>1998</td>\n",
       "      <td>Kharif</td>\n",
       "      <td>Cotton(lint)</td>\n",
       "      <td>15225.0</td>\n",
       "      <td>22129.0</td>\n",
       "      <td>795.01</td>\n",
       "      <td>31.708333</td>\n",
       "      <td>20.706667</td>\n",
       "    </tr>\n",
       "    <tr>\n",
       "      <th>4</th>\n",
       "      <td>Karnataka</td>\n",
       "      <td>BAGALKOT</td>\n",
       "      <td>1998</td>\n",
       "      <td>Kharif</td>\n",
       "      <td>Groundnut</td>\n",
       "      <td>16368.0</td>\n",
       "      <td>7734.0</td>\n",
       "      <td>795.01</td>\n",
       "      <td>31.708333</td>\n",
       "      <td>20.706667</td>\n",
       "    </tr>\n",
       "  </tbody>\n",
       "</table>\n",
       "</div>"
      ],
      "text/plain": [
       "  State Name Dist Name  Year       Season          Crop     Area  Production  \\\n",
       "0  Karnataka  BAGALKOT  1998  Kharif          Arhar/Tur   6154.0      2602.0   \n",
       "1  Karnataka  BAGALKOT  1998  Kharif              Bajra  48855.0     52375.0   \n",
       "2  Karnataka  BAGALKOT  1998  Kharif        Castor seed     71.0        61.0   \n",
       "3  Karnataka  BAGALKOT  1998  Kharif       Cotton(lint)  15225.0     22129.0   \n",
       "4  Karnataka  BAGALKOT  1998  Kharif          Groundnut  16368.0      7734.0   \n",
       "\n",
       "   Annual  Mean Max. Tempearure  Mean Min. Tempearure  \n",
       "0  795.01             31.708333             20.706667  \n",
       "1  795.01             31.708333             20.706667  \n",
       "2  795.01             31.708333             20.706667  \n",
       "3  795.01             31.708333             20.706667  \n",
       "4  795.01             31.708333             20.706667  "
      ]
     },
     "execution_count": 3,
     "metadata": {},
     "output_type": "execute_result"
    }
   ],
   "source": [
    "karnataka_data.head()"
   ]
  },
  {
   "cell_type": "code",
   "execution_count": 4,
   "metadata": {},
   "outputs": [],
   "source": [
    "karnataka_data['Production_per_100000'] = karnataka_data['Production']/100000\n",
    "karnataka_data['Area_per_100000'] = karnataka_data['Area']/100000"
   ]
  },
  {
   "cell_type": "code",
   "execution_count": 5,
   "metadata": {},
   "outputs": [],
   "source": [
    "unique_district = karnataka_data['Dist Name'].unique()\n",
    "unique_season = karnataka_data['Season'].unique()\n",
    "unique_crop = karnataka_data['Crop'].unique()\n",
    "years = karnataka_data['Year'].unique()"
   ]
  },
  {
   "cell_type": "code",
   "execution_count": 6,
   "metadata": {},
   "outputs": [
    {
     "name": "stdout",
     "output_type": "stream",
     "text": [
      "28\n",
      "['BAGALKOT' 'BANGALORE RURAL' 'BELGAUM' 'BELLARY' 'BENGALURU URBAN'\n",
      " 'BIDAR' 'CHAMARAJANAGAR' 'CHIKBALLAPUR' 'CHIKMAGALUR' 'CHITRADURGA'\n",
      " 'DAKSHIN KANNAD' 'DAVANGERE' 'DHARWAD' 'GADAG' 'GULBARGA' 'HASSAN'\n",
      " 'HAVERI' 'KODAGU' 'KOLAR' 'KOPPAL' 'MANDYA' 'RAICHUR' 'RAMANAGARA'\n",
      " 'SHIMOGA' 'TUMKUR' 'UDUPI' 'UTTAR KANNAD' 'YADGIR']\n"
     ]
    }
   ],
   "source": [
    "print(len(unique_district))\n",
    "print(unique_district)"
   ]
  },
  {
   "cell_type": "code",
   "execution_count": 7,
   "metadata": {},
   "outputs": [
    {
     "name": "stdout",
     "output_type": "stream",
     "text": [
      "59\n",
      "['Arhar/Tur' 'Bajra' 'Castor seed' 'Cotton(lint)' 'Groundnut' 'Horse-gram'\n",
      " 'Jowar' 'Maize' 'Moong(Green Gram)' 'Niger seed' 'Onion'\n",
      " 'Rapeseed &Mustard' 'Rice' 'Sesamum' 'Soyabean' 'Sunflower' 'Gram'\n",
      " 'Linseed' 'Safflower' 'Wheat' 'Arecanut' 'Coconut ' 'Coriander'\n",
      " 'Dry chillies' 'Garlic' 'Turmeric' 'Mesta' 'Other Kharif pulses'\n",
      " 'Small millets' 'Other  Rabi pulses' 'Banana' 'Sugarcane' 'Sweet potato'\n",
      " 'Sannhamp' 'Arcanut (Processed)' 'Atcanut (Raw)' 'Brinjal' 'Citrus Fruit'\n",
      " 'Grapes' 'Mango' 'Other Fresh Fruits' 'Papaya' 'Pome Fruit' 'Tomato'\n",
      " 'Urad' 'Cashewnut' 'Tobacco' 'Cowpea(Lobia)' 'Black pepper' 'Dry ginger'\n",
      " 'Paddy' 'Peas & beans (Pulses)' 'Potato' 'Ragi' 'Tapioca'\n",
      " 'Beans & Mutter(Vegetable)' 'Cashewnut Processed' 'Cashewnut Raw'\n",
      " 'Cardamom']\n"
     ]
    }
   ],
   "source": [
    "print(len(unique_crop))\n",
    "print(unique_crop)"
   ]
  },
  {
   "cell_type": "code",
   "execution_count": 8,
   "metadata": {},
   "outputs": [
    {
     "name": "stdout",
     "output_type": "stream",
     "text": [
      "4\n",
      "['Kharif     ' 'Rabi       ' 'Summer     ' 'Whole Year ']\n"
     ]
    }
   ],
   "source": [
    "print(len(unique_season))\n",
    "print(unique_season)"
   ]
  },
  {
   "cell_type": "code",
   "execution_count": null,
   "metadata": {},
   "outputs": [
    {
     "data": {
      "text/plain": [
       "Text(0, 0.5, 'Production_per_100000')"
      ]
     },
     "execution_count": 9,
     "metadata": {},
     "output_type": "execute_result"
    }
   ],
   "source": [
    "fig = plt.figure(figsize=(25,16))  \n",
    "for i,year in enumerate(years):\n",
    "    plt.subplot(6,3,i+1)\n",
    "    plt.bar('Season','Production_per_100000',data=karnataka_data[karnataka_data.Year==year])\n",
    "    plt.ylim(0,100)\n",
    "    plt.text(0.5,50,str(year))\n",
    " \n",
    "fig.suptitle(\"Production in every year in different Session\")\n",
    "fig.text(0.5,0,\"Crop Season\",fontsize=20)\n",
    "fig.text(0,0.5,\"Production_per_100000\",rotation=90,fontsize=20) "
   ]
  },
  {
   "cell_type": "code",
   "execution_count": null,
   "metadata": {},
   "outputs": [],
   "source": [
    "group_data1 = karnataka_data.groupby([\"Dist Name\",\"Crop\"])\n",
    "production_data1 = group_data1['Production_per_100000'].sum()\n",
    "area_data1 =  group_data1['Area_per_100000'].sum()"
   ]
  },
  {
   "cell_type": "code",
   "execution_count": null,
   "metadata": {},
   "outputs": [],
   "source": []
  },
  {
   "cell_type": "code",
   "execution_count": null,
   "metadata": {
    "scrolled": false
   },
   "outputs": [],
   "source": [
    "for i in range(28):\n",
    "    plt.figure(figsize=(18,4))\n",
    "    #plt.subplot(1,2,1)\n",
    "    sns.barplot(production_data1[unique_district[i]].index,production_data1[unique_district[i]])\n",
    "    plt.ylim(0,50)\n",
    "    plt.xticks([i for i in range(59)],label=unique_crop,rotation=90)\n",
    "    plt.suptitle(list(unique_district)[i])\n",
    "    plt.show()"
   ]
  },
  {
   "cell_type": "code",
   "execution_count": null,
   "metadata": {},
   "outputs": [],
   "source": []
  }
 ],
 "metadata": {
  "kernelspec": {
   "display_name": "Python 3",
   "language": "python",
   "name": "python3"
  },
  "language_info": {
   "codemirror_mode": {
    "name": "ipython",
    "version": 3
   },
   "file_extension": ".py",
   "mimetype": "text/x-python",
   "name": "python",
   "nbconvert_exporter": "python",
   "pygments_lexer": "ipython3",
   "version": "3.8.5"
  }
 },
 "nbformat": 4,
 "nbformat_minor": 4
}
